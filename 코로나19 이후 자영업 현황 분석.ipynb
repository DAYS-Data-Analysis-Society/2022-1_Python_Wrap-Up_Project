{
 "cells": [
  {
   "cell_type": "code",
   "execution_count": 37,
   "id": "0b764e4f",
   "metadata": {},
   "outputs": [],
   "source": [
    "# pandas, matplotlib, pyplot 불러오기\n",
    "import pandas as pd\n",
    "import matplotlib as plt\n",
    "import matplotlib.pyplot as plt"
   ]
  },
  {
   "cell_type": "code",
   "execution_count": 38,
   "id": "5f2322d2",
   "metadata": {},
   "outputs": [],
   "source": [
    "# 한글 폰트의 깨짐 방지\n",
    "\n",
    "from matplotlib import font_manager, rc\n",
    "\n",
    "font_name = font_manager.FontProperties(fname=\"c:/Windows/Fonts/malgun.ttf\").get_name()\n",
    "rc('font', family=font_name)"
   ]
  },
  {
   "cell_type": "code",
   "execution_count": 39,
   "id": "2b94307c",
   "metadata": {},
   "outputs": [],
   "source": [
    "# 개인, 회사법인, 회사법인이외, 도소매 전년대비 2020년 업황 파일 \n",
    "\n",
    "commercial_personal = pd.read_csv(\"C:/Users/ASUS/OneDrive/바탕 화면/전년대비_올해의_업황_개인.csv\", encoding='cp949')\n",
    "commercial_cp = pd.read_csv(\"C:/Users/ASUS/OneDrive/바탕 화면/전년대비_올해의_업황_회사법인.csv\", encoding='cp949')\n",
    "commercial_ex_cp = pd.read_csv(\"C:/Users/ASUS/OneDrive/바탕 화면/전년대비_올해의_업황_회사이외법인.csv\", encoding='cp949')\n",
    "commercial_ws_re = pd.read_csv(\"C:/Users/ASUS/OneDrive/바탕 화면/전년대비_올해의_업황_도소매.csv\", encoding='cp949')\n",
    "commercial_ac_fd = pd.read_csv(\"C:/Users/ASUS/OneDrive/바탕 화면/전년대비_올해의_업황_숙박 및 음식.csv\", encoding='cp949')\n",
    "reason = pd.read_csv(\"C:/Users/ASUS/OneDrive/바탕 화면/전년대비_올해_업황이_나빠진_이유.csv\", encoding='cp949')"
   ]
  },
  {
   "cell_type": "code",
   "execution_count": 40,
   "id": "fb73ebc7",
   "metadata": {},
   "outputs": [],
   "source": [
    "# 파일 정보 확인"
   ]
  },
  {
   "cell_type": "code",
   "execution_count": 41,
   "id": "1b8db6c4",
   "metadata": {},
   "outputs": [
    {
     "data": {
      "text/html": [
       "<div>\n",
       "<style scoped>\n",
       "    .dataframe tbody tr th:only-of-type {\n",
       "        vertical-align: middle;\n",
       "    }\n",
       "\n",
       "    .dataframe tbody tr th {\n",
       "        vertical-align: top;\n",
       "    }\n",
       "\n",
       "    .dataframe thead th {\n",
       "        text-align: right;\n",
       "    }\n",
       "</style>\n",
       "<table border=\"1\" class=\"dataframe\">\n",
       "  <thead>\n",
       "    <tr style=\"text-align: right;\">\n",
       "      <th></th>\n",
       "      <th>특성별</th>\n",
       "      <th>사업체 수 (개)</th>\n",
       "      <th>업황</th>\n",
       "      <th>응답 비율(%)</th>\n",
       "    </tr>\n",
       "  </thead>\n",
       "  <tbody>\n",
       "    <tr>\n",
       "      <th>0</th>\n",
       "      <td>개인사업체</td>\n",
       "      <td>24529</td>\n",
       "      <td>매우 나빠짐</td>\n",
       "      <td>29.9</td>\n",
       "    </tr>\n",
       "    <tr>\n",
       "      <th>1</th>\n",
       "      <td>개인사업체</td>\n",
       "      <td>24529</td>\n",
       "      <td>나빠짐</td>\n",
       "      <td>43.1</td>\n",
       "    </tr>\n",
       "    <tr>\n",
       "      <th>2</th>\n",
       "      <td>개인사업체</td>\n",
       "      <td>24529</td>\n",
       "      <td>비슷함</td>\n",
       "      <td>22.5</td>\n",
       "    </tr>\n",
       "    <tr>\n",
       "      <th>3</th>\n",
       "      <td>개인사업체</td>\n",
       "      <td>24529</td>\n",
       "      <td>좋아짐</td>\n",
       "      <td>4.4</td>\n",
       "    </tr>\n",
       "    <tr>\n",
       "      <th>4</th>\n",
       "      <td>개인사업체</td>\n",
       "      <td>24529</td>\n",
       "      <td>매우 좋아짐</td>\n",
       "      <td>0.1</td>\n",
       "    </tr>\n",
       "  </tbody>\n",
       "</table>\n",
       "</div>"
      ],
      "text/plain": [
       "     특성별  사업체 수 (개)      업황  응답 비율(%)\n",
       "0  개인사업체      24529  매우 나빠짐      29.9\n",
       "1  개인사업체      24529     나빠짐      43.1\n",
       "2  개인사업체      24529     비슷함      22.5\n",
       "3  개인사업체      24529     좋아짐       4.4\n",
       "4  개인사업체      24529  매우 좋아짐       0.1"
      ]
     },
     "execution_count": 41,
     "metadata": {},
     "output_type": "execute_result"
    }
   ],
   "source": [
    "commercial_personal.head()"
   ]
  },
  {
   "cell_type": "code",
   "execution_count": 42,
   "id": "15d0dd55",
   "metadata": {},
   "outputs": [
    {
     "data": {
      "text/html": [
       "<div>\n",
       "<style scoped>\n",
       "    .dataframe tbody tr th:only-of-type {\n",
       "        vertical-align: middle;\n",
       "    }\n",
       "\n",
       "    .dataframe tbody tr th {\n",
       "        vertical-align: top;\n",
       "    }\n",
       "\n",
       "    .dataframe thead th {\n",
       "        text-align: right;\n",
       "    }\n",
       "</style>\n",
       "<table border=\"1\" class=\"dataframe\">\n",
       "  <thead>\n",
       "    <tr style=\"text-align: right;\">\n",
       "      <th></th>\n",
       "      <th>특성별</th>\n",
       "      <th>사업체 수</th>\n",
       "      <th>업황</th>\n",
       "      <th>응답 비율(%)</th>\n",
       "    </tr>\n",
       "  </thead>\n",
       "  <tbody>\n",
       "    <tr>\n",
       "      <th>0</th>\n",
       "      <td>회사법인</td>\n",
       "      <td>4221</td>\n",
       "      <td>매우 나빠짐</td>\n",
       "      <td>20.9</td>\n",
       "    </tr>\n",
       "    <tr>\n",
       "      <th>1</th>\n",
       "      <td>회사법인</td>\n",
       "      <td>4221</td>\n",
       "      <td>나빠짐</td>\n",
       "      <td>38.1</td>\n",
       "    </tr>\n",
       "    <tr>\n",
       "      <th>2</th>\n",
       "      <td>회사법인</td>\n",
       "      <td>4221</td>\n",
       "      <td>비슷함</td>\n",
       "      <td>32.3</td>\n",
       "    </tr>\n",
       "    <tr>\n",
       "      <th>3</th>\n",
       "      <td>회사법인</td>\n",
       "      <td>4221</td>\n",
       "      <td>좋아짐</td>\n",
       "      <td>8.0</td>\n",
       "    </tr>\n",
       "    <tr>\n",
       "      <th>4</th>\n",
       "      <td>회사법인</td>\n",
       "      <td>4221</td>\n",
       "      <td>매우 좋아짐</td>\n",
       "      <td>0.7</td>\n",
       "    </tr>\n",
       "  </tbody>\n",
       "</table>\n",
       "</div>"
      ],
      "text/plain": [
       "    특성별  사업체 수      업황  응답 비율(%)\n",
       "0  회사법인   4221  매우 나빠짐      20.9\n",
       "1  회사법인   4221     나빠짐      38.1\n",
       "2  회사법인   4221     비슷함      32.3\n",
       "3  회사법인   4221     좋아짐       8.0\n",
       "4  회사법인   4221  매우 좋아짐       0.7"
      ]
     },
     "execution_count": 42,
     "metadata": {},
     "output_type": "execute_result"
    }
   ],
   "source": [
    "commercial_cp.head()"
   ]
  },
  {
   "cell_type": "code",
   "execution_count": 43,
   "id": "e9d9fc94",
   "metadata": {},
   "outputs": [
    {
     "data": {
      "text/html": [
       "<div>\n",
       "<style scoped>\n",
       "    .dataframe tbody tr th:only-of-type {\n",
       "        vertical-align: middle;\n",
       "    }\n",
       "\n",
       "    .dataframe tbody tr th {\n",
       "        vertical-align: top;\n",
       "    }\n",
       "\n",
       "    .dataframe thead th {\n",
       "        text-align: right;\n",
       "    }\n",
       "</style>\n",
       "<table border=\"1\" class=\"dataframe\">\n",
       "  <thead>\n",
       "    <tr style=\"text-align: right;\">\n",
       "      <th></th>\n",
       "      <th>특성별</th>\n",
       "      <th>사업체 수</th>\n",
       "      <th>업황</th>\n",
       "      <th>응답 비율(%)</th>\n",
       "    </tr>\n",
       "  </thead>\n",
       "  <tbody>\n",
       "    <tr>\n",
       "      <th>0</th>\n",
       "      <td>회사이외법인</td>\n",
       "      <td>143</td>\n",
       "      <td>매우 나빠짐</td>\n",
       "      <td>25.0</td>\n",
       "    </tr>\n",
       "    <tr>\n",
       "      <th>1</th>\n",
       "      <td>회사이외법인</td>\n",
       "      <td>143</td>\n",
       "      <td>나빠짐</td>\n",
       "      <td>25.0</td>\n",
       "    </tr>\n",
       "    <tr>\n",
       "      <th>2</th>\n",
       "      <td>회사이외법인</td>\n",
       "      <td>143</td>\n",
       "      <td>비슷함</td>\n",
       "      <td>46.9</td>\n",
       "    </tr>\n",
       "    <tr>\n",
       "      <th>3</th>\n",
       "      <td>회사이외법인</td>\n",
       "      <td>143</td>\n",
       "      <td>좋아짐</td>\n",
       "      <td>3.1</td>\n",
       "    </tr>\n",
       "    <tr>\n",
       "      <th>4</th>\n",
       "      <td>회사이외법인</td>\n",
       "      <td>143</td>\n",
       "      <td>매우 좋아짐</td>\n",
       "      <td>0.0</td>\n",
       "    </tr>\n",
       "  </tbody>\n",
       "</table>\n",
       "</div>"
      ],
      "text/plain": [
       "      특성별  사업체 수      업황  응답 비율(%)\n",
       "0  회사이외법인    143  매우 나빠짐      25.0\n",
       "1  회사이외법인    143     나빠짐      25.0\n",
       "2  회사이외법인    143     비슷함      46.9\n",
       "3  회사이외법인    143     좋아짐       3.1\n",
       "4  회사이외법인    143  매우 좋아짐       0.0"
      ]
     },
     "execution_count": 43,
     "metadata": {},
     "output_type": "execute_result"
    }
   ],
   "source": [
    "commercial_ex_cp.head()"
   ]
  },
  {
   "cell_type": "code",
   "execution_count": 44,
   "id": "c9ce112b",
   "metadata": {
    "scrolled": false
   },
   "outputs": [
    {
     "data": {
      "text/html": [
       "<div>\n",
       "<style scoped>\n",
       "    .dataframe tbody tr th:only-of-type {\n",
       "        vertical-align: middle;\n",
       "    }\n",
       "\n",
       "    .dataframe tbody tr th {\n",
       "        vertical-align: top;\n",
       "    }\n",
       "\n",
       "    .dataframe thead th {\n",
       "        text-align: right;\n",
       "    }\n",
       "</style>\n",
       "<table border=\"1\" class=\"dataframe\">\n",
       "  <thead>\n",
       "    <tr style=\"text-align: right;\">\n",
       "      <th></th>\n",
       "      <th>특성별</th>\n",
       "      <th>사업체 수 (개)</th>\n",
       "      <th>업황</th>\n",
       "      <th>응답 비율(%)</th>\n",
       "    </tr>\n",
       "  </thead>\n",
       "  <tbody>\n",
       "    <tr>\n",
       "      <th>0</th>\n",
       "      <td>도·소매업</td>\n",
       "      <td>18462</td>\n",
       "      <td>매우 나빠짐</td>\n",
       "      <td>25.9</td>\n",
       "    </tr>\n",
       "    <tr>\n",
       "      <th>1</th>\n",
       "      <td>도·소매업</td>\n",
       "      <td>18462</td>\n",
       "      <td>나빠짐</td>\n",
       "      <td>42.8</td>\n",
       "    </tr>\n",
       "    <tr>\n",
       "      <th>2</th>\n",
       "      <td>도·소매업</td>\n",
       "      <td>18462</td>\n",
       "      <td>비슷함</td>\n",
       "      <td>25.0</td>\n",
       "    </tr>\n",
       "    <tr>\n",
       "      <th>3</th>\n",
       "      <td>도·소매업</td>\n",
       "      <td>18462</td>\n",
       "      <td>좋아짐</td>\n",
       "      <td>6.1</td>\n",
       "    </tr>\n",
       "    <tr>\n",
       "      <th>4</th>\n",
       "      <td>도·소매업</td>\n",
       "      <td>18462</td>\n",
       "      <td>매우 좋아짐</td>\n",
       "      <td>0.2</td>\n",
       "    </tr>\n",
       "  </tbody>\n",
       "</table>\n",
       "</div>"
      ],
      "text/plain": [
       "     특성별  사업체 수 (개)      업황  응답 비율(%)\n",
       "0  도·소매업      18462  매우 나빠짐      25.9\n",
       "1  도·소매업      18462     나빠짐      42.8\n",
       "2  도·소매업      18462     비슷함      25.0\n",
       "3  도·소매업      18462     좋아짐       6.1\n",
       "4  도·소매업      18462  매우 좋아짐       0.2"
      ]
     },
     "execution_count": 44,
     "metadata": {},
     "output_type": "execute_result"
    }
   ],
   "source": [
    "commercial_ws_re.head()"
   ]
  },
  {
   "cell_type": "code",
   "execution_count": 45,
   "id": "c74545f3",
   "metadata": {},
   "outputs": [
    {
     "data": {
      "text/html": [
       "<div>\n",
       "<style scoped>\n",
       "    .dataframe tbody tr th:only-of-type {\n",
       "        vertical-align: middle;\n",
       "    }\n",
       "\n",
       "    .dataframe tbody tr th {\n",
       "        vertical-align: top;\n",
       "    }\n",
       "\n",
       "    .dataframe thead th {\n",
       "        text-align: right;\n",
       "    }\n",
       "</style>\n",
       "<table border=\"1\" class=\"dataframe\">\n",
       "  <thead>\n",
       "    <tr style=\"text-align: right;\">\n",
       "      <th></th>\n",
       "      <th>특성별</th>\n",
       "      <th>사업체 수 (개)</th>\n",
       "      <th>업황</th>\n",
       "      <th>응답 비율(%)</th>\n",
       "    </tr>\n",
       "  </thead>\n",
       "  <tbody>\n",
       "    <tr>\n",
       "      <th>0</th>\n",
       "      <td>음식·숙박업</td>\n",
       "      <td>10431</td>\n",
       "      <td>매우 나빠짐</td>\n",
       "      <td>37.1</td>\n",
       "    </tr>\n",
       "    <tr>\n",
       "      <th>1</th>\n",
       "      <td>음식·숙박업</td>\n",
       "      <td>10431</td>\n",
       "      <td>나빠짐</td>\n",
       "      <td>43.5</td>\n",
       "    </tr>\n",
       "    <tr>\n",
       "      <th>2</th>\n",
       "      <td>음식·숙박업</td>\n",
       "      <td>10431</td>\n",
       "      <td>비슷함</td>\n",
       "      <td>18.1</td>\n",
       "    </tr>\n",
       "    <tr>\n",
       "      <th>3</th>\n",
       "      <td>음식·숙박업</td>\n",
       "      <td>10431</td>\n",
       "      <td>좋아짐</td>\n",
       "      <td>1.3</td>\n",
       "    </tr>\n",
       "    <tr>\n",
       "      <th>4</th>\n",
       "      <td>음식·숙박업</td>\n",
       "      <td>10431</td>\n",
       "      <td>매우 좋아짐</td>\n",
       "      <td>0.0</td>\n",
       "    </tr>\n",
       "  </tbody>\n",
       "</table>\n",
       "</div>"
      ],
      "text/plain": [
       "      특성별  사업체 수 (개)      업황  응답 비율(%)\n",
       "0  음식·숙박업      10431  매우 나빠짐      37.1\n",
       "1  음식·숙박업      10431     나빠짐      43.5\n",
       "2  음식·숙박업      10431     비슷함      18.1\n",
       "3  음식·숙박업      10431     좋아짐       1.3\n",
       "4  음식·숙박업      10431  매우 좋아짐       0.0"
      ]
     },
     "execution_count": 45,
     "metadata": {},
     "output_type": "execute_result"
    }
   ],
   "source": [
    "commercial_ac_fd.head()"
   ]
  },
  {
   "cell_type": "code",
   "execution_count": 61,
   "id": "ce05b5d1",
   "metadata": {},
   "outputs": [
    {
     "data": {
      "text/html": [
       "<div>\n",
       "<style scoped>\n",
       "    .dataframe tbody tr th:only-of-type {\n",
       "        vertical-align: middle;\n",
       "    }\n",
       "\n",
       "    .dataframe tbody tr th {\n",
       "        vertical-align: top;\n",
       "    }\n",
       "\n",
       "    .dataframe thead th {\n",
       "        text-align: right;\n",
       "    }\n",
       "</style>\n",
       "<table border=\"1\" class=\"dataframe\">\n",
       "  <thead>\n",
       "    <tr style=\"text-align: right;\">\n",
       "      <th></th>\n",
       "      <th>응답자특성별(1)</th>\n",
       "      <th>이유</th>\n",
       "      <th>응답비율(%)</th>\n",
       "    </tr>\n",
       "  </thead>\n",
       "  <tbody>\n",
       "    <tr>\n",
       "      <th>0</th>\n",
       "      <td>전체</td>\n",
       "      <td>인건비 상승 등 인력 확보 어려움 (%)</td>\n",
       "      <td>4.5</td>\n",
       "    </tr>\n",
       "    <tr>\n",
       "      <th>1</th>\n",
       "      <td>NaN</td>\n",
       "      <td>물류비 상승 등 운송 어려움 (%)</td>\n",
       "      <td>1.7</td>\n",
       "    </tr>\n",
       "    <tr>\n",
       "      <th>2</th>\n",
       "      <td>NaN</td>\n",
       "      <td>상품(판매)단가 하락 (%)</td>\n",
       "      <td>1.3</td>\n",
       "    </tr>\n",
       "    <tr>\n",
       "      <th>3</th>\n",
       "      <td>NaN</td>\n",
       "      <td>업체간 과다 경쟁 (%)</td>\n",
       "      <td>3.6</td>\n",
       "    </tr>\n",
       "    <tr>\n",
       "      <th>4</th>\n",
       "      <td>NaN</td>\n",
       "      <td>코로나19 확산 (%)</td>\n",
       "      <td>84.7</td>\n",
       "    </tr>\n",
       "  </tbody>\n",
       "</table>\n",
       "</div>"
      ],
      "text/plain": [
       "  응답자특성별(1)                      이유  응답비율(%)\n",
       "0        전체  인건비 상승 등 인력 확보 어려움 (%)      4.5\n",
       "1       NaN     물류비 상승 등 운송 어려움 (%)      1.7\n",
       "2       NaN         상품(판매)단가 하락 (%)      1.3\n",
       "3       NaN           업체간 과다 경쟁 (%)      3.6\n",
       "4       NaN            코로나19 확산 (%)     84.7"
      ]
     },
     "execution_count": 61,
     "metadata": {},
     "output_type": "execute_result"
    }
   ],
   "source": [
    "reason.head()"
   ]
  },
  {
   "cell_type": "code",
   "execution_count": 46,
   "id": "5b4504ad",
   "metadata": {},
   "outputs": [],
   "source": [
    "# 결측치 확인"
   ]
  },
  {
   "cell_type": "code",
   "execution_count": 47,
   "id": "80f7a4cf",
   "metadata": {},
   "outputs": [
    {
     "data": {
      "text/plain": [
       "특성별          0\n",
       "사업체 수 (개)    0\n",
       "업황           0\n",
       "응답 비율(%)     0\n",
       "dtype: int64"
      ]
     },
     "execution_count": 47,
     "metadata": {},
     "output_type": "execute_result"
    }
   ],
   "source": [
    "commercial_personal.isnull(). sum()"
   ]
  },
  {
   "cell_type": "code",
   "execution_count": 48,
   "id": "d1fa31ae",
   "metadata": {},
   "outputs": [
    {
     "data": {
      "text/plain": [
       "특성별         0\n",
       "사업체 수       0\n",
       "업황          0\n",
       "응답 비율(%)    0\n",
       "dtype: int64"
      ]
     },
     "execution_count": 48,
     "metadata": {},
     "output_type": "execute_result"
    }
   ],
   "source": [
    "commercial_cp.isnull(). sum()"
   ]
  },
  {
   "cell_type": "code",
   "execution_count": 49,
   "id": "64a950a5",
   "metadata": {},
   "outputs": [
    {
     "data": {
      "text/plain": [
       "특성별         0\n",
       "사업체 수       0\n",
       "업황          0\n",
       "응답 비율(%)    0\n",
       "dtype: int64"
      ]
     },
     "execution_count": 49,
     "metadata": {},
     "output_type": "execute_result"
    }
   ],
   "source": [
    "commercial_ex_cp.isnull(). sum()"
   ]
  },
  {
   "cell_type": "code",
   "execution_count": 50,
   "id": "1260dde1",
   "metadata": {},
   "outputs": [
    {
     "data": {
      "text/plain": [
       "특성별          0\n",
       "사업체 수 (개)    0\n",
       "업황           0\n",
       "응답 비율(%)     0\n",
       "dtype: int64"
      ]
     },
     "execution_count": 50,
     "metadata": {},
     "output_type": "execute_result"
    }
   ],
   "source": [
    "commercial_ws_re.isnull(). sum()"
   ]
  },
  {
   "cell_type": "code",
   "execution_count": 51,
   "id": "ea2931fd",
   "metadata": {},
   "outputs": [
    {
     "data": {
      "text/plain": [
       "특성별          0\n",
       "사업체 수 (개)    0\n",
       "업황           0\n",
       "응답 비율(%)     0\n",
       "dtype: int64"
      ]
     },
     "execution_count": 51,
     "metadata": {},
     "output_type": "execute_result"
    }
   ],
   "source": [
    "commercial_ac_fd.isnull().sum()"
   ]
  },
  {
   "cell_type": "code",
   "execution_count": 62,
   "id": "cfe45178",
   "metadata": {},
   "outputs": [
    {
     "data": {
      "text/plain": [
       "응답자특성별(1)    5\n",
       "이유           0\n",
       "응답비율(%)      0\n",
       "dtype: int64"
      ]
     },
     "execution_count": 62,
     "metadata": {},
     "output_type": "execute_result"
    }
   ],
   "source": [
    "reason.isnull().sum()"
   ]
  },
  {
   "cell_type": "code",
   "execution_count": 64,
   "id": "390ffc61",
   "metadata": {},
   "outputs": [
    {
     "data": {
      "text/html": [
       "<div>\n",
       "<style scoped>\n",
       "    .dataframe tbody tr th:only-of-type {\n",
       "        vertical-align: middle;\n",
       "    }\n",
       "\n",
       "    .dataframe tbody tr th {\n",
       "        vertical-align: top;\n",
       "    }\n",
       "\n",
       "    .dataframe thead th {\n",
       "        text-align: right;\n",
       "    }\n",
       "</style>\n",
       "<table border=\"1\" class=\"dataframe\">\n",
       "  <thead>\n",
       "    <tr style=\"text-align: right;\">\n",
       "      <th></th>\n",
       "      <th>이유</th>\n",
       "      <th>응답비율(%)</th>\n",
       "    </tr>\n",
       "  </thead>\n",
       "  <tbody>\n",
       "    <tr>\n",
       "      <th>0</th>\n",
       "      <td>인건비 상승 등 인력 확보 어려움 (%)</td>\n",
       "      <td>4.5</td>\n",
       "    </tr>\n",
       "    <tr>\n",
       "      <th>1</th>\n",
       "      <td>물류비 상승 등 운송 어려움 (%)</td>\n",
       "      <td>1.7</td>\n",
       "    </tr>\n",
       "    <tr>\n",
       "      <th>2</th>\n",
       "      <td>상품(판매)단가 하락 (%)</td>\n",
       "      <td>1.3</td>\n",
       "    </tr>\n",
       "    <tr>\n",
       "      <th>3</th>\n",
       "      <td>업체간 과다 경쟁 (%)</td>\n",
       "      <td>3.6</td>\n",
       "    </tr>\n",
       "    <tr>\n",
       "      <th>4</th>\n",
       "      <td>코로나19 확산 (%)</td>\n",
       "      <td>84.7</td>\n",
       "    </tr>\n",
       "    <tr>\n",
       "      <th>5</th>\n",
       "      <td>기타 (%)</td>\n",
       "      <td>4.2</td>\n",
       "    </tr>\n",
       "  </tbody>\n",
       "</table>\n",
       "</div>"
      ],
      "text/plain": [
       "                       이유  응답비율(%)\n",
       "0  인건비 상승 등 인력 확보 어려움 (%)      4.5\n",
       "1     물류비 상승 등 운송 어려움 (%)      1.7\n",
       "2         상품(판매)단가 하락 (%)      1.3\n",
       "3           업체간 과다 경쟁 (%)      3.6\n",
       "4            코로나19 확산 (%)     84.7\n",
       "5                  기타 (%)      4.2"
      ]
     },
     "execution_count": 64,
     "metadata": {},
     "output_type": "execute_result"
    }
   ],
   "source": [
    "# 결측치 제거, '응답자특성별(1)' 열 삭제\n",
    "reason.dropna(axis=1)"
   ]
  },
  {
   "cell_type": "code",
   "execution_count": 52,
   "id": "d49de5a5",
   "metadata": {},
   "outputs": [],
   "source": [
    "#데이터 시각화 - 파이차트"
   ]
  },
  {
   "cell_type": "code",
   "execution_count": 53,
   "id": "b0e593a9",
   "metadata": {},
   "outputs": [
    {
     "data": {
      "image/png": "[encoded data removed]",
      "text/plain": [
       "<Figure size 432x288 with 1 Axes>"
      ]
     },
     "metadata": {},
     "output_type": "display_data"
    }
   ],
   "source": [
    "#개인사업체 업황\n",
    "ratio = commercial_personal['응답 비율(%)']\n",
    "wedgeprops = {'width': 0.6, 'linewidth': 1, 'edgecolor': 'black'}\n",
    "labels = commercial_personal['업황']\n",
    "pie_colors = ['coral', 'skyblue', 'springgreen','mediumpurple', 'lightseagreen']\n",
    "\n",
    "\n",
    "plt.pie(ratio, labels=labels, autopct='%.1f%%', textprops={'fontsize':12}, colors=pie_colors, wedgeprops = wedgeprops, pctdistance=0.9)\n",
    "plt.title('개인사업체 응답 비율', size = 15)\n",
    "plt.show()"
   ]
  },
  {
   "cell_type": "code",
   "execution_count": 54,
   "id": "c0406c2a",
   "metadata": {},
   "outputs": [
    {
     "data": {
      "image/png": "[encoded data removed]",
      "text/plain": [
       "<Figure size 432x288 with 1 Axes>"
      ]
     },
     "metadata": {},
     "output_type": "display_data"
    }
   ],
   "source": [
    "#회사법인 업황\n",
    "ratio = commercial_cp['응답 비율(%)']\n",
    "wedgeprops = {'width': 0.6, 'linewidth': 1, 'edgecolor': 'black'}\n",
    "labels = commercial_personal['업황']\n",
    "pie_colors = ['coral', 'skyblue', 'springgreen','mediumpurple', 'lightseagreen']\n",
    "\n",
    "\n",
    "plt.pie(ratio, labels=labels, autopct='%.1f%%', textprops={'fontsize':12}, colors=pie_colors, wedgeprops = wedgeprops, pctdistance=0.9)\n",
    "plt.title('회사법인 응답 비율', size = 15)\n",
    "plt.show()"
   ]
  },
  {
   "cell_type": "code",
   "execution_count": 55,
   "id": "f9f8c582",
   "metadata": {},
   "outputs": [
    {
     "data": {
      "image/png": "[encoded data removed]",
      "text/plain": [
       "<Figure size 432x288 with 1 Axes>"
      ]
     },
     "metadata": {},
     "output_type": "display_data"
    }
   ],
   "source": [
    "#회사이외법인 업황\n",
    "ratio = commercial_ex_cp ['응답 비율(%)']\n",
    "wedgeprops = {'width': 0.6, 'linewidth': 1, 'edgecolor': 'black'}\n",
    "labels = commercial_ex_cp ['업황']\n",
    "pie_colors = ['coral', 'skyblue', 'springgreen','mediumpurple', 'lightseagreen']\n",
    "\n",
    "\n",
    "plt.pie(ratio, labels=labels, autopct='%.1f%%', textprops={'fontsize':12}, colors=pie_colors, wedgeprops = wedgeprops, pctdistance=0.9)\n",
    "plt.title('회사이외법인 응답 비율', size = 15)\n",
    "plt.show()"
   ]
  },
  {
   "cell_type": "code",
   "execution_count": 56,
   "id": "fcaf34d3",
   "metadata": {},
   "outputs": [
    {
     "data": {
      "image/png": "[encoded data removed]",
      "text/plain": [
       "<Figure size 432x288 with 1 Axes>"
      ]
     },
     "metadata": {},
     "output_type": "display_data"
    }
   ],
   "source": [
    "#도소매 업황\n",
    "ratio = commercial_ws_re['응답 비율(%)']\n",
    "wedgeprops = {'width': 0.6, 'linewidth': 1, 'edgecolor': 'black'}\n",
    "labels = commercial_ws_re ['업황']\n",
    "pie_colors = ['coral', 'skyblue', 'springgreen','mediumpurple', 'lightseagreen']\n",
    "\n",
    "\n",
    "plt.pie(ratio, labels=labels, autopct='%.1f%%', textprops={'fontsize':12}, colors=pie_colors, wedgeprops = wedgeprops, pctdistance=0.9)\n",
    "plt.title('도소매 응답 비율', size = 15)\n",
    "plt.show()"
   ]
  },
  {
   "cell_type": "code",
   "execution_count": 57,
   "id": "b5f1c008",
   "metadata": {},
   "outputs": [
    {
     "data": {
      "image/png": "[encoded data removed]",
      "text/plain": [
       "<Figure size 432x288 with 1 Axes>"
      ]
     },
     "metadata": {},
     "output_type": "display_data"
    }
   ],
   "source": [
    "#도소매 업황\n",
    "ratio = commercial_ac_fd['응답 비율(%)']\n",
    "wedgeprops = {'width': 0.6, 'linewidth': 1, 'edgecolor': 'black'}\n",
    "labels = commercial_personal['업황']\n",
    "pie_colors = ['coral', 'skyblue', 'springgreen','mediumpurple', 'lightseagreen']\n",
    "\n",
    "\n",
    "plt.pie(ratio, labels=labels, autopct='%.1f%%', textprops={'fontsize':12},\n",
    "        colors=pie_colors, wedgeprops = wedgeprops, pctdistance=0.9)\n",
    "plt.title('숙박 및 식당 응답 비율', size = 15)\n",
    "plt.show()"
   ]
  },
  {
   "cell_type": "code",
   "execution_count": 69,
   "id": "701ab2d1",
   "metadata": {},
   "outputs": [
    {
     "data": {
      "image/png": "[encoded data removed]",
      "text/plain": [
       "<Figure size 432x288 with 1 Axes>"
      ]
     },
     "metadata": {},
     "output_type": "display_data"
    }
   ],
   "source": [
    "#업황이 나빠진 이유\n",
    "ratio = reason['응답비율(%)']\n",
    "wedgeprops = {'width': 0.6, 'linewidth': 1, 'edgecolor': 'black'}\n",
    "labels = reason['이유']\n",
    "pie_colors = ['skyblue', 'lightseagreen', 'springgreen','mediumpurple', 'pink', 'gold']\n",
    "\n",
    "\n",
    "plt.pie(ratio, labels=labels, autopct='%.1f%%', textprops={'fontsize':12},\n",
    "        colors=pie_colors, wedgeprops = wedgeprops, pctdistance=0.9)\n",
    "plt.title('업황이 나빠진 이유', size = 15)\n",
    "plt.show()"
   ]
  }
 ],
 "metadata": {
  "kernelspec": {
   "display_name": "Python 3 (ipykernel)",
   "language": "python",
   "name": "python3"
  },
  "language_info": {
   "codemirror_mode": {
    "name": "ipython",
    "version": 3
   },
   "file_extension": ".py",
   "mimetype": "text/x-python",
   "name": "python",
   "nbconvert_exporter": "python",
   "pygments_lexer": "ipython3",
   "version": "3.9.7"
  }
 },
 "nbformat": 4,
 "nbformat_minor": 5
}
