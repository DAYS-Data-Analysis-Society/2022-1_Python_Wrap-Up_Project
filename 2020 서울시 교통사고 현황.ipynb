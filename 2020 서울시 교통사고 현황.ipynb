{
 "cells": [
  {
   "cell_type": "code",
   "execution_count": 126,
   "id": "15e1e53b",
   "metadata": {
    "scrolled": false
   },
   "outputs": [
    {
     "data": {
      "text/html": [
       "<div>\n",
       "<style scoped>\n",
       "    .dataframe tbody tr th:only-of-type {\n",
       "        vertical-align: middle;\n",
       "    }\n",
       "\n",
       "    .dataframe tbody tr th {\n",
       "        vertical-align: top;\n",
       "    }\n",
       "\n",
       "    .dataframe thead th {\n",
       "        text-align: right;\n",
       "    }\n",
       "</style>\n",
       "<table border=\"1\" class=\"dataframe\">\n",
       "  <thead>\n",
       "    <tr style=\"text-align: right;\">\n",
       "      <th></th>\n",
       "      <th>기간</th>\n",
       "      <th>자치구</th>\n",
       "      <th>발생건수_계</th>\n",
       "      <th>발생건수_남자</th>\n",
       "      <th>발생건수_여자</th>\n",
       "      <th>발생건수_기타불명</th>\n",
       "      <th>사망자수_계</th>\n",
       "      <th>사망자수_남자</th>\n",
       "      <th>사망자수_여자</th>\n",
       "      <th>부상자수_계</th>\n",
       "      <th>부상자수_남자</th>\n",
       "      <th>부상자수_여자</th>\n",
       "      <th>부상자수_기타불명</th>\n",
       "    </tr>\n",
       "  </thead>\n",
       "  <tbody>\n",
       "    <tr>\n",
       "      <th>0</th>\n",
       "      <td>2020</td>\n",
       "      <td>합계</td>\n",
       "      <td>35,227</td>\n",
       "      <td>28,206</td>\n",
       "      <td>6,219</td>\n",
       "      <td>802</td>\n",
       "      <td>219</td>\n",
       "      <td>199</td>\n",
       "      <td>20</td>\n",
       "      <td>47,513</td>\n",
       "      <td>38,153</td>\n",
       "      <td>8,487</td>\n",
       "      <td>873</td>\n",
       "    </tr>\n",
       "    <tr>\n",
       "      <th>1</th>\n",
       "      <td>2020</td>\n",
       "      <td>종로구</td>\n",
       "      <td>903</td>\n",
       "      <td>736</td>\n",
       "      <td>141</td>\n",
       "      <td>26</td>\n",
       "      <td>5</td>\n",
       "      <td>5</td>\n",
       "      <td>0</td>\n",
       "      <td>1,224</td>\n",
       "      <td>1,000</td>\n",
       "      <td>198</td>\n",
       "      <td>26</td>\n",
       "    </tr>\n",
       "    <tr>\n",
       "      <th>2</th>\n",
       "      <td>2020</td>\n",
       "      <td>중구</td>\n",
       "      <td>955</td>\n",
       "      <td>798</td>\n",
       "      <td>136</td>\n",
       "      <td>21</td>\n",
       "      <td>6</td>\n",
       "      <td>6</td>\n",
       "      <td>0</td>\n",
       "      <td>1,248</td>\n",
       "      <td>1,050</td>\n",
       "      <td>175</td>\n",
       "      <td>23</td>\n",
       "    </tr>\n",
       "    <tr>\n",
       "      <th>3</th>\n",
       "      <td>2020</td>\n",
       "      <td>용산구</td>\n",
       "      <td>890</td>\n",
       "      <td>721</td>\n",
       "      <td>146</td>\n",
       "      <td>23</td>\n",
       "      <td>12</td>\n",
       "      <td>11</td>\n",
       "      <td>1</td>\n",
       "      <td>1,178</td>\n",
       "      <td>944</td>\n",
       "      <td>211</td>\n",
       "      <td>23</td>\n",
       "    </tr>\n",
       "    <tr>\n",
       "      <th>4</th>\n",
       "      <td>2020</td>\n",
       "      <td>성동구</td>\n",
       "      <td>1,119</td>\n",
       "      <td>885</td>\n",
       "      <td>188</td>\n",
       "      <td>46</td>\n",
       "      <td>9</td>\n",
       "      <td>9</td>\n",
       "      <td>0</td>\n",
       "      <td>1,481</td>\n",
       "      <td>1,174</td>\n",
       "      <td>260</td>\n",
       "      <td>47</td>\n",
       "    </tr>\n",
       "  </tbody>\n",
       "</table>\n",
       "</div>"
      ],
      "text/plain": [
       "     기간  자치구  발생건수_계 발생건수_남자 발생건수_여자  발생건수_기타불명  사망자수_계  사망자수_남자  사망자수_여자  \\\n",
       "0  2020   합계  35,227  28,206   6,219        802     219      199       20   \n",
       "1  2020  종로구     903     736     141         26       5        5        0   \n",
       "2  2020   중구     955     798     136         21       6        6        0   \n",
       "3  2020  용산구     890     721     146         23      12       11        1   \n",
       "4  2020  성동구   1,119     885     188         46       9        9        0   \n",
       "\n",
       "   부상자수_계 부상자수_남자 부상자수_여자  부상자수_기타불명  \n",
       "0  47,513  38,153   8,487        873  \n",
       "1   1,224   1,000     198         26  \n",
       "2   1,248   1,050     175         23  \n",
       "3   1,178     944     211         23  \n",
       "4   1,481   1,174     260         47  "
      ]
     },
     "execution_count": 126,
     "metadata": {},
     "output_type": "execute_result"
    }
   ],
   "source": [
    "import pandas as pd\n",
    "import numpy as np\n",
    "import matplotlib.pyplot as plt\n",
    "import seaborn as sns\n",
    "import os\n",
    "df2=pd.read_csv('seoul1.csv',encoding='cp949')\n",
    "df2.head()"
   ]
  },
  {
   "cell_type": "code",
   "execution_count": 127,
   "id": "c83d10fb",
   "metadata": {},
   "outputs": [
    {
     "name": "stdout",
     "output_type": "stream",
     "text": [
      "<class 'pandas.core.frame.DataFrame'>\n",
      "RangeIndex: 26 entries, 0 to 25\n",
      "Data columns (total 13 columns):\n",
      " #   Column     Non-Null Count  Dtype \n",
      "---  ------     --------------  ----- \n",
      " 0   기간         26 non-null     int64 \n",
      " 1   자치구        26 non-null     object\n",
      " 2   발생건수_계     26 non-null     object\n",
      " 3   발생건수_남자    26 non-null     object\n",
      " 4   발생건수_여자    26 non-null     object\n",
      " 5   발생건수_기타불명  26 non-null     int64 \n",
      " 6   사망자수_계     26 non-null     int64 \n",
      " 7   사망자수_남자    26 non-null     int64 \n",
      " 8   사망자수_여자    26 non-null     int64 \n",
      " 9   부상자수_계     26 non-null     object\n",
      " 10  부상자수_남자    26 non-null     object\n",
      " 11  부상자수_여자    26 non-null     object\n",
      " 12  부상자수_기타불명  26 non-null     int64 \n",
      "dtypes: int64(6), object(7)\n",
      "memory usage: 2.8+ KB\n"
     ]
    }
   ],
   "source": [
    "df2.info()"
   ]
  },
  {
   "cell_type": "code",
   "execution_count": 128,
   "id": "44a819e7",
   "metadata": {
    "scrolled": true
   },
   "outputs": [
    {
     "data": {
      "text/html": [
       "<div>\n",
       "<style scoped>\n",
       "    .dataframe tbody tr th:only-of-type {\n",
       "        vertical-align: middle;\n",
       "    }\n",
       "\n",
       "    .dataframe tbody tr th {\n",
       "        vertical-align: top;\n",
       "    }\n",
       "\n",
       "    .dataframe thead th {\n",
       "        text-align: right;\n",
       "    }\n",
       "</style>\n",
       "<table border=\"1\" class=\"dataframe\">\n",
       "  <thead>\n",
       "    <tr style=\"text-align: right;\">\n",
       "      <th></th>\n",
       "      <th>기간</th>\n",
       "      <th>자치구</th>\n",
       "      <th>발생건수_계</th>\n",
       "      <th>발생건수_남자</th>\n",
       "      <th>발생건수_여자</th>\n",
       "      <th>발생건수_기타불명</th>\n",
       "      <th>사망자수_계</th>\n",
       "      <th>사망자수_남자</th>\n",
       "      <th>사망자수_여자</th>\n",
       "      <th>부상자수_계</th>\n",
       "      <th>부상자수_남자</th>\n",
       "      <th>부상자수_여자</th>\n",
       "      <th>부상자수_기타불명</th>\n",
       "    </tr>\n",
       "  </thead>\n",
       "  <tbody>\n",
       "    <tr>\n",
       "      <th>0</th>\n",
       "      <td>2020</td>\n",
       "      <td>합계</td>\n",
       "      <td>35227</td>\n",
       "      <td>28206</td>\n",
       "      <td>6219</td>\n",
       "      <td>802</td>\n",
       "      <td>219</td>\n",
       "      <td>199</td>\n",
       "      <td>20</td>\n",
       "      <td>47513</td>\n",
       "      <td>38153</td>\n",
       "      <td>8487</td>\n",
       "      <td>873</td>\n",
       "    </tr>\n",
       "    <tr>\n",
       "      <th>1</th>\n",
       "      <td>2020</td>\n",
       "      <td>종로구</td>\n",
       "      <td>903</td>\n",
       "      <td>736</td>\n",
       "      <td>141</td>\n",
       "      <td>26</td>\n",
       "      <td>5</td>\n",
       "      <td>5</td>\n",
       "      <td>0</td>\n",
       "      <td>1224</td>\n",
       "      <td>1000</td>\n",
       "      <td>198</td>\n",
       "      <td>26</td>\n",
       "    </tr>\n",
       "    <tr>\n",
       "      <th>2</th>\n",
       "      <td>2020</td>\n",
       "      <td>중구</td>\n",
       "      <td>955</td>\n",
       "      <td>798</td>\n",
       "      <td>136</td>\n",
       "      <td>21</td>\n",
       "      <td>6</td>\n",
       "      <td>6</td>\n",
       "      <td>0</td>\n",
       "      <td>1248</td>\n",
       "      <td>1050</td>\n",
       "      <td>175</td>\n",
       "      <td>23</td>\n",
       "    </tr>\n",
       "    <tr>\n",
       "      <th>3</th>\n",
       "      <td>2020</td>\n",
       "      <td>용산구</td>\n",
       "      <td>890</td>\n",
       "      <td>721</td>\n",
       "      <td>146</td>\n",
       "      <td>23</td>\n",
       "      <td>12</td>\n",
       "      <td>11</td>\n",
       "      <td>1</td>\n",
       "      <td>1178</td>\n",
       "      <td>944</td>\n",
       "      <td>211</td>\n",
       "      <td>23</td>\n",
       "    </tr>\n",
       "    <tr>\n",
       "      <th>4</th>\n",
       "      <td>2020</td>\n",
       "      <td>성동구</td>\n",
       "      <td>1119</td>\n",
       "      <td>885</td>\n",
       "      <td>188</td>\n",
       "      <td>46</td>\n",
       "      <td>9</td>\n",
       "      <td>9</td>\n",
       "      <td>0</td>\n",
       "      <td>1481</td>\n",
       "      <td>1174</td>\n",
       "      <td>260</td>\n",
       "      <td>47</td>\n",
       "    </tr>\n",
       "  </tbody>\n",
       "</table>\n",
       "</div>"
      ],
      "text/plain": [
       "     기간  자치구 발생건수_계 발생건수_남자 발생건수_여자  발생건수_기타불명  사망자수_계  사망자수_남자  사망자수_여자  \\\n",
       "0  2020   합계  35227   28206    6219        802     219      199       20   \n",
       "1  2020  종로구    903     736     141         26       5        5        0   \n",
       "2  2020   중구    955     798     136         21       6        6        0   \n",
       "3  2020  용산구    890     721     146         23      12       11        1   \n",
       "4  2020  성동구   1119     885     188         46       9        9        0   \n",
       "\n",
       "  부상자수_계 부상자수_남자 부상자수_여자  부상자수_기타불명  \n",
       "0  47513   38153    8487        873  \n",
       "1   1224    1000     198         26  \n",
       "2   1248    1050     175         23  \n",
       "3   1178     944     211         23  \n",
       "4   1481    1174     260         47  "
      ]
     },
     "execution_count": 128,
     "metadata": {},
     "output_type": "execute_result"
    }
   ],
   "source": [
    "df2 = df2.replace('-', '0')\n",
    "df2['발생건수_계'] = df2['발생건수_계'].str.replace(',','')\n",
    "df2['발생건수_남자'] = df2['발생건수_남자'].str.replace(',','')\n",
    "df2['발생건수_여자'] = df2['발생건수_여자'].str.replace(',','')\n",
    "df2['부상자수_남자'] = df2['부상자수_남자'].str.replace(',','')\n",
    "df2['부상자수_여자'] = df2['부상자수_여자'].str.replace(',','')\n",
    "df2['부상자수_계'] = df2['부상자수_계'].str.replace(',','')\n",
    "df2.head()"
   ]
  },
  {
   "cell_type": "code",
   "execution_count": 129,
   "id": "8d69ef11",
   "metadata": {},
   "outputs": [],
   "source": [
    "\n",
    "df2['발생건수_계'] = df2['발생건수_계'].astype(int)\n",
    "df2['발생건수_남자'] = df2['발생건수_남자'].astype(int)\n",
    "df2['발생건수_여자'] = df2['발생건수_여자'].astype(int)\n",
    "df2['부상자수_남자'] = df2['부상자수_남자'].astype(int)\n",
    "df2['부상자수_여자'] = df2['부상자수_여자'].astype(int)\n",
    "df2['사망자수_계'] = df2['사망자수_계'].astype(int)\n",
    "df2['부상자수_계'] = df2['부상자수_계'].astype(int)"
   ]
  },
  {
   "cell_type": "code",
   "execution_count": 130,
   "id": "9d44af0e",
   "metadata": {},
   "outputs": [
    {
     "name": "stdout",
     "output_type": "stream",
     "text": [
      "<class 'pandas.core.frame.DataFrame'>\n",
      "RangeIndex: 26 entries, 0 to 25\n",
      "Data columns (total 13 columns):\n",
      " #   Column     Non-Null Count  Dtype \n",
      "---  ------     --------------  ----- \n",
      " 0   기간         26 non-null     int64 \n",
      " 1   자치구        26 non-null     object\n",
      " 2   발생건수_계     26 non-null     int32 \n",
      " 3   발생건수_남자    26 non-null     int32 \n",
      " 4   발생건수_여자    26 non-null     int32 \n",
      " 5   발생건수_기타불명  26 non-null     int64 \n",
      " 6   사망자수_계     26 non-null     int32 \n",
      " 7   사망자수_남자    26 non-null     int64 \n",
      " 8   사망자수_여자    26 non-null     int64 \n",
      " 9   부상자수_계     26 non-null     int32 \n",
      " 10  부상자수_남자    26 non-null     int32 \n",
      " 11  부상자수_여자    26 non-null     int32 \n",
      " 12  부상자수_기타불명  26 non-null     int64 \n",
      "dtypes: int32(7), int64(5), object(1)\n",
      "memory usage: 2.1+ KB\n"
     ]
    }
   ],
   "source": [
    "df2.info()"
   ]
  },
  {
   "cell_type": "code",
   "execution_count": 131,
   "id": "96109249",
   "metadata": {},
   "outputs": [
    {
     "data": {
      "text/html": [
       "<div>\n",
       "<style scoped>\n",
       "    .dataframe tbody tr th:only-of-type {\n",
       "        vertical-align: middle;\n",
       "    }\n",
       "\n",
       "    .dataframe tbody tr th {\n",
       "        vertical-align: top;\n",
       "    }\n",
       "\n",
       "    .dataframe thead th {\n",
       "        text-align: right;\n",
       "    }\n",
       "</style>\n",
       "<table border=\"1\" class=\"dataframe\">\n",
       "  <thead>\n",
       "    <tr style=\"text-align: right;\">\n",
       "      <th></th>\n",
       "      <th>기간</th>\n",
       "      <th>자치구</th>\n",
       "      <th>발생건수_계</th>\n",
       "      <th>발생건수_남자</th>\n",
       "      <th>발생건수_여자</th>\n",
       "      <th>발생건수_기타불명</th>\n",
       "      <th>사망자수_계</th>\n",
       "      <th>사망자수_남자</th>\n",
       "      <th>사망자수_여자</th>\n",
       "      <th>부상자수_계</th>\n",
       "      <th>부상자수_남자</th>\n",
       "      <th>부상자수_여자</th>\n",
       "      <th>부상자수_기타불명</th>\n",
       "    </tr>\n",
       "  </thead>\n",
       "  <tbody>\n",
       "    <tr>\n",
       "      <th>1</th>\n",
       "      <td>2020</td>\n",
       "      <td>종로구</td>\n",
       "      <td>903</td>\n",
       "      <td>736</td>\n",
       "      <td>141</td>\n",
       "      <td>26</td>\n",
       "      <td>5</td>\n",
       "      <td>5</td>\n",
       "      <td>0</td>\n",
       "      <td>1224</td>\n",
       "      <td>1000</td>\n",
       "      <td>198</td>\n",
       "      <td>26</td>\n",
       "    </tr>\n",
       "    <tr>\n",
       "      <th>2</th>\n",
       "      <td>2020</td>\n",
       "      <td>중구</td>\n",
       "      <td>955</td>\n",
       "      <td>798</td>\n",
       "      <td>136</td>\n",
       "      <td>21</td>\n",
       "      <td>6</td>\n",
       "      <td>6</td>\n",
       "      <td>0</td>\n",
       "      <td>1248</td>\n",
       "      <td>1050</td>\n",
       "      <td>175</td>\n",
       "      <td>23</td>\n",
       "    </tr>\n",
       "    <tr>\n",
       "      <th>3</th>\n",
       "      <td>2020</td>\n",
       "      <td>용산구</td>\n",
       "      <td>890</td>\n",
       "      <td>721</td>\n",
       "      <td>146</td>\n",
       "      <td>23</td>\n",
       "      <td>12</td>\n",
       "      <td>11</td>\n",
       "      <td>1</td>\n",
       "      <td>1178</td>\n",
       "      <td>944</td>\n",
       "      <td>211</td>\n",
       "      <td>23</td>\n",
       "    </tr>\n",
       "    <tr>\n",
       "      <th>4</th>\n",
       "      <td>2020</td>\n",
       "      <td>성동구</td>\n",
       "      <td>1119</td>\n",
       "      <td>885</td>\n",
       "      <td>188</td>\n",
       "      <td>46</td>\n",
       "      <td>9</td>\n",
       "      <td>9</td>\n",
       "      <td>0</td>\n",
       "      <td>1481</td>\n",
       "      <td>1174</td>\n",
       "      <td>260</td>\n",
       "      <td>47</td>\n",
       "    </tr>\n",
       "    <tr>\n",
       "      <th>5</th>\n",
       "      <td>2020</td>\n",
       "      <td>광진구</td>\n",
       "      <td>1448</td>\n",
       "      <td>1215</td>\n",
       "      <td>223</td>\n",
       "      <td>10</td>\n",
       "      <td>10</td>\n",
       "      <td>8</td>\n",
       "      <td>2</td>\n",
       "      <td>1845</td>\n",
       "      <td>1545</td>\n",
       "      <td>289</td>\n",
       "      <td>11</td>\n",
       "    </tr>\n",
       "  </tbody>\n",
       "</table>\n",
       "</div>"
      ],
      "text/plain": [
       "     기간  자치구  발생건수_계  발생건수_남자  발생건수_여자  발생건수_기타불명  사망자수_계  사망자수_남자  사망자수_여자  \\\n",
       "1  2020  종로구     903      736      141         26       5        5        0   \n",
       "2  2020   중구     955      798      136         21       6        6        0   \n",
       "3  2020  용산구     890      721      146         23      12       11        1   \n",
       "4  2020  성동구    1119      885      188         46       9        9        0   \n",
       "5  2020  광진구    1448     1215      223         10      10        8        2   \n",
       "\n",
       "   부상자수_계  부상자수_남자  부상자수_여자  부상자수_기타불명  \n",
       "1    1224     1000      198         26  \n",
       "2    1248     1050      175         23  \n",
       "3    1178      944      211         23  \n",
       "4    1481     1174      260         47  \n",
       "5    1845     1545      289         11  "
      ]
     },
     "execution_count": 131,
     "metadata": {},
     "output_type": "execute_result"
    }
   ],
   "source": [
    "drop_row=df2[df2['자치구']=='합계'].index\n",
    "df2=df2.drop(drop_row)\n",
    "df2.head()"
   ]
  },
  {
   "cell_type": "code",
   "execution_count": 132,
   "id": "4f126f31",
   "metadata": {
    "scrolled": true
   },
   "outputs": [
    {
     "data": {
      "text/plain": [
       "<AxesSubplot:title={'center':'발생건수'}, xlabel='자치구', ylabel='발생건수_계'>"
      ]
     },
     "execution_count": 132,
     "metadata": {},
     "output_type": "execute_result"
    },
    {
     "data": {
      "image/png": "[encoded data removed]",
      "text/plain": [
       "<Figure size 1152x576 with 1 Axes>"
      ]
     },
     "metadata": {
      "needs_background": "light"
     },
     "output_type": "display_data"
    }
   ],
   "source": [
    "import matplotlib.pyplot as plt\n",
    "from matplotlib import rc\n",
    "%matplotlib inline\n",
    "from matplotlib import font_manager\n",
    "f_path = \"C:/windows/Fonts/malgun.ttf\"\n",
    "font_manager.FontProperties(fname=f_path).get_name()\n",
    "rc('font', family='Malgun Gothic')\n",
    "\n",
    "\n",
    "plt.figure(figsize=(16,8))\n",
    "plt.title(\"발생건수\")\n",
    "plt.xlabel(\"자치구\")\n",
    "plt.ylabel(\"발생건수\")\n",
    "sns.barplot(x=\"자치구\", y=\"발생건수_계\", data=df2)"
   ]
  },
  {
   "cell_type": "code",
   "execution_count": 133,
   "id": "04e05f32",
   "metadata": {
    "scrolled": false
   },
   "outputs": [
    {
     "data": {
      "text/plain": [
       "<AxesSubplot:title={'center':'발생건수 별 사망자 수'}, xlabel='발생건수_계', ylabel='사망자수_계'>"
      ]
     },
     "execution_count": 133,
     "metadata": {},
     "output_type": "execute_result"
    },
    {
     "data": {
      "image/png": "[encoded data removed]",
      "text/plain": [
       "<Figure size 1152x576 with 1 Axes>"
      ]
     },
     "metadata": {
      "needs_background": "light"
     },
     "output_type": "display_data"
    }
   ],
   "source": [
    "plt.figure(figsize=(16,8))\n",
    "plt.title(\"발생건수 별 사망자 수\")\n",
    "sns.barplot(x=\"발생건수_계\",y=\"사망자수_계\", data=df2)"
   ]
  },
  {
   "cell_type": "code",
   "execution_count": 148,
   "id": "b2fb0876",
   "metadata": {
    "scrolled": true
   },
   "outputs": [
    {
     "data": {
      "text/plain": [
       "<AxesSubplot:title={'center':'발생건수 별 부상자 수'}, xlabel='발생건수_계', ylabel='부상자수_계'>"
      ]
     },
     "execution_count": 148,
     "metadata": {},
     "output_type": "execute_result"
    },
    {
     "data": {
      "image/png": "[encoded data removed]",
      "text/plain": [
       "<Figure size 720x360 with 1 Axes>"
      ]
     },
     "metadata": {
      "needs_background": "light"
     },
     "output_type": "display_data"
    }
   ],
   "source": [
    "plt.figure(figsize=(10,5))\n",
    "plt.title(\"발생건수 별 부상자 수\")\n",
    "sns.regplot(x=df2['발생건수_계'].astype(float), y=df2['부상자수_계'].astype(float))"
   ]
  },
  {
   "cell_type": "code",
   "execution_count": 135,
   "id": "68636604",
   "metadata": {
    "scrolled": true
   },
   "outputs": [
    {
     "data": {
      "text/html": [
       "<div>\n",
       "<style scoped>\n",
       "    .dataframe tbody tr th:only-of-type {\n",
       "        vertical-align: middle;\n",
       "    }\n",
       "\n",
       "    .dataframe tbody tr th {\n",
       "        vertical-align: top;\n",
       "    }\n",
       "\n",
       "    .dataframe thead th {\n",
       "        text-align: right;\n",
       "    }\n",
       "</style>\n",
       "<table border=\"1\" class=\"dataframe\">\n",
       "  <thead>\n",
       "    <tr style=\"text-align: right;\">\n",
       "      <th></th>\n",
       "      <th>자치구</th>\n",
       "      <th>발생건수_계</th>\n",
       "      <th>부상자수_계</th>\n",
       "    </tr>\n",
       "  </thead>\n",
       "  <tbody>\n",
       "    <tr>\n",
       "      <th>1</th>\n",
       "      <td>종로구</td>\n",
       "      <td>903</td>\n",
       "      <td>1224</td>\n",
       "    </tr>\n",
       "    <tr>\n",
       "      <th>2</th>\n",
       "      <td>중구</td>\n",
       "      <td>955</td>\n",
       "      <td>1248</td>\n",
       "    </tr>\n",
       "    <tr>\n",
       "      <th>3</th>\n",
       "      <td>용산구</td>\n",
       "      <td>890</td>\n",
       "      <td>1178</td>\n",
       "    </tr>\n",
       "    <tr>\n",
       "      <th>4</th>\n",
       "      <td>성동구</td>\n",
       "      <td>1119</td>\n",
       "      <td>1481</td>\n",
       "    </tr>\n",
       "    <tr>\n",
       "      <th>5</th>\n",
       "      <td>광진구</td>\n",
       "      <td>1448</td>\n",
       "      <td>1845</td>\n",
       "    </tr>\n",
       "  </tbody>\n",
       "</table>\n",
       "</div>"
      ],
      "text/plain": [
       "   자치구  발생건수_계  부상자수_계\n",
       "1  종로구     903    1224\n",
       "2   중구     955    1248\n",
       "3  용산구     890    1178\n",
       "4  성동구    1119    1481\n",
       "5  광진구    1448    1845"
      ]
     },
     "execution_count": 135,
     "metadata": {},
     "output_type": "execute_result"
    }
   ],
   "source": [
    "df3 = pd.DataFrame(df2,columns=['자치구','발생건수_계','부상자수_계'])\n",
    "df3.head()"
   ]
  },
  {
   "cell_type": "code",
   "execution_count": 135,
   "id": "5274c911",
   "metadata": {
    "scrolled": true
   },
   "outputs": [
    {
     "data": {
      "text/html": [
       "<div>\n",
       "<style scoped>\n",
       "    .dataframe tbody tr th:only-of-type {\n",
       "        vertical-align: middle;\n",
       "    }\n",
       "\n",
       "    .dataframe tbody tr th {\n",
       "        vertical-align: top;\n",
       "    }\n",
       "\n",
       "    .dataframe thead th {\n",
       "        text-align: right;\n",
       "    }\n",
       "</style>\n",
       "<table border=\"1\" class=\"dataframe\">\n",
       "  <thead>\n",
       "    <tr style=\"text-align: right;\">\n",
       "      <th></th>\n",
       "      <th>자치구</th>\n",
       "      <th>발생건수_계</th>\n",
       "      <th>부상자수_계</th>\n",
       "    </tr>\n",
       "  </thead>\n",
       "  <tbody>\n",
       "    <tr>\n",
       "      <th>1</th>\n",
       "      <td>종로구</td>\n",
       "      <td>903</td>\n",
       "      <td>1224</td>\n",
       "    </tr>\n",
       "    <tr>\n",
       "      <th>2</th>\n",
       "      <td>중구</td>\n",
       "      <td>955</td>\n",
       "      <td>1248</td>\n",
       "    </tr>\n",
       "    <tr>\n",
       "      <th>3</th>\n",
       "      <td>용산구</td>\n",
       "      <td>890</td>\n",
       "      <td>1178</td>\n",
       "    </tr>\n",
       "    <tr>\n",
       "      <th>4</th>\n",
       "      <td>성동구</td>\n",
       "      <td>1119</td>\n",
       "      <td>1481</td>\n",
       "    </tr>\n",
       "    <tr>\n",
       "      <th>5</th>\n",
       "      <td>광진구</td>\n",
       "      <td>1448</td>\n",
       "      <td>1845</td>\n",
       "    </tr>\n",
       "  </tbody>\n",
       "</table>\n",
       "</div>"
      ],
      "text/plain": [
       "   자치구  발생건수_계  부상자수_계\n",
       "1  종로구     903    1224\n",
       "2   중구     955    1248\n",
       "3  용산구     890    1178\n",
       "4  성동구    1119    1481\n",
       "5  광진구    1448    1845"
      ]
     },
     "execution_count": 135,
     "metadata": {},
     "output_type": "execute_result"
    }
   ],
   "source": [
    "df3 = pd.DataFrame(df2,columns=['자치구','발생건수_계','부상자수_계'])\n",
    "df3.head()"
   ]
  },
  {
   "cell_type": "code",
   "execution_count": 135,
   "id": "a199a0cd",
   "metadata": {
    "scrolled": true
   },
   "outputs": [
    {
     "data": {
      "text/html": [
       "<div>\n",
       "<style scoped>\n",
       "    .dataframe tbody tr th:only-of-type {\n",
       "        vertical-align: middle;\n",
       "    }\n",
       "\n",
       "    .dataframe tbody tr th {\n",
       "        vertical-align: top;\n",
       "    }\n",
       "\n",
       "    .dataframe thead th {\n",
       "        text-align: right;\n",
       "    }\n",
       "</style>\n",
       "<table border=\"1\" class=\"dataframe\">\n",
       "  <thead>\n",
       "    <tr style=\"text-align: right;\">\n",
       "      <th></th>\n",
       "      <th>자치구</th>\n",
       "      <th>발생건수_계</th>\n",
       "      <th>부상자수_계</th>\n",
       "    </tr>\n",
       "  </thead>\n",
       "  <tbody>\n",
       "    <tr>\n",
       "      <th>1</th>\n",
       "      <td>종로구</td>\n",
       "      <td>903</td>\n",
       "      <td>1224</td>\n",
       "    </tr>\n",
       "    <tr>\n",
       "      <th>2</th>\n",
       "      <td>중구</td>\n",
       "      <td>955</td>\n",
       "      <td>1248</td>\n",
       "    </tr>\n",
       "    <tr>\n",
       "      <th>3</th>\n",
       "      <td>용산구</td>\n",
       "      <td>890</td>\n",
       "      <td>1178</td>\n",
       "    </tr>\n",
       "    <tr>\n",
       "      <th>4</th>\n",
       "      <td>성동구</td>\n",
       "      <td>1119</td>\n",
       "      <td>1481</td>\n",
       "    </tr>\n",
       "    <tr>\n",
       "      <th>5</th>\n",
       "      <td>광진구</td>\n",
       "      <td>1448</td>\n",
       "      <td>1845</td>\n",
       "    </tr>\n",
       "  </tbody>\n",
       "</table>\n",
       "</div>"
      ],
      "text/plain": [
       "   자치구  발생건수_계  부상자수_계\n",
       "1  종로구     903    1224\n",
       "2   중구     955    1248\n",
       "3  용산구     890    1178\n",
       "4  성동구    1119    1481\n",
       "5  광진구    1448    1845"
      ]
     },
     "execution_count": 135,
     "metadata": {},
     "output_type": "execute_result"
    }
   ],
   "source": [
    "df3 = pd.DataFrame(df2,columns=['자치구','발생건수_계','부상자수_계'])\n",
    "df3.head()"
   ]
  },
  {
   "cell_type": "code",
   "execution_count": 135,
   "id": "4638dca5",
   "metadata": {
    "scrolled": true
   },
   "outputs": [
    {
     "data": {
      "text/html": [
       "<div>\n",
       "<style scoped>\n",
       "    .dataframe tbody tr th:only-of-type {\n",
       "        vertical-align: middle;\n",
       "    }\n",
       "\n",
       "    .dataframe tbody tr th {\n",
       "        vertical-align: top;\n",
       "    }\n",
       "\n",
       "    .dataframe thead th {\n",
       "        text-align: right;\n",
       "    }\n",
       "</style>\n",
       "<table border=\"1\" class=\"dataframe\">\n",
       "  <thead>\n",
       "    <tr style=\"text-align: right;\">\n",
       "      <th></th>\n",
       "      <th>자치구</th>\n",
       "      <th>발생건수_계</th>\n",
       "      <th>부상자수_계</th>\n",
       "    </tr>\n",
       "  </thead>\n",
       "  <tbody>\n",
       "    <tr>\n",
       "      <th>1</th>\n",
       "      <td>종로구</td>\n",
       "      <td>903</td>\n",
       "      <td>1224</td>\n",
       "    </tr>\n",
       "    <tr>\n",
       "      <th>2</th>\n",
       "      <td>중구</td>\n",
       "      <td>955</td>\n",
       "      <td>1248</td>\n",
       "    </tr>\n",
       "    <tr>\n",
       "      <th>3</th>\n",
       "      <td>용산구</td>\n",
       "      <td>890</td>\n",
       "      <td>1178</td>\n",
       "    </tr>\n",
       "    <tr>\n",
       "      <th>4</th>\n",
       "      <td>성동구</td>\n",
       "      <td>1119</td>\n",
       "      <td>1481</td>\n",
       "    </tr>\n",
       "    <tr>\n",
       "      <th>5</th>\n",
       "      <td>광진구</td>\n",
       "      <td>1448</td>\n",
       "      <td>1845</td>\n",
       "    </tr>\n",
       "  </tbody>\n",
       "</table>\n",
       "</div>"
      ],
      "text/plain": [
       "   자치구  발생건수_계  부상자수_계\n",
       "1  종로구     903    1224\n",
       "2   중구     955    1248\n",
       "3  용산구     890    1178\n",
       "4  성동구    1119    1481\n",
       "5  광진구    1448    1845"
      ]
     },
     "execution_count": 135,
     "metadata": {},
     "output_type": "execute_result"
    }
   ],
   "source": [
    "df3 = pd.DataFrame(df2,columns=['자치구','발생건수_계','부상자수_계'])\n",
    "df3.head()"
   ]
  },
  {
   "cell_type": "code",
   "execution_count": 135,
   "id": "7aa3d393",
   "metadata": {
    "scrolled": true
   },
   "outputs": [
    {
     "data": {
      "text/html": [
       "<div>\n",
       "<style scoped>\n",
       "    .dataframe tbody tr th:only-of-type {\n",
       "        vertical-align: middle;\n",
       "    }\n",
       "\n",
       "    .dataframe tbody tr th {\n",
       "        vertical-align: top;\n",
       "    }\n",
       "\n",
       "    .dataframe thead th {\n",
       "        text-align: right;\n",
       "    }\n",
       "</style>\n",
       "<table border=\"1\" class=\"dataframe\">\n",
       "  <thead>\n",
       "    <tr style=\"text-align: right;\">\n",
       "      <th></th>\n",
       "      <th>자치구</th>\n",
       "      <th>발생건수_계</th>\n",
       "      <th>부상자수_계</th>\n",
       "    </tr>\n",
       "  </thead>\n",
       "  <tbody>\n",
       "    <tr>\n",
       "      <th>1</th>\n",
       "      <td>종로구</td>\n",
       "      <td>903</td>\n",
       "      <td>1224</td>\n",
       "    </tr>\n",
       "    <tr>\n",
       "      <th>2</th>\n",
       "      <td>중구</td>\n",
       "      <td>955</td>\n",
       "      <td>1248</td>\n",
       "    </tr>\n",
       "    <tr>\n",
       "      <th>3</th>\n",
       "      <td>용산구</td>\n",
       "      <td>890</td>\n",
       "      <td>1178</td>\n",
       "    </tr>\n",
       "    <tr>\n",
       "      <th>4</th>\n",
       "      <td>성동구</td>\n",
       "      <td>1119</td>\n",
       "      <td>1481</td>\n",
       "    </tr>\n",
       "    <tr>\n",
       "      <th>5</th>\n",
       "      <td>광진구</td>\n",
       "      <td>1448</td>\n",
       "      <td>1845</td>\n",
       "    </tr>\n",
       "  </tbody>\n",
       "</table>\n",
       "</div>"
      ],
      "text/plain": [
       "   자치구  발생건수_계  부상자수_계\n",
       "1  종로구     903    1224\n",
       "2   중구     955    1248\n",
       "3  용산구     890    1178\n",
       "4  성동구    1119    1481\n",
       "5  광진구    1448    1845"
      ]
     },
     "execution_count": 135,
     "metadata": {},
     "output_type": "execute_result"
    }
   ],
   "source": [
    "df3 = pd.DataFrame(df2,columns=['자치구','발생건수_계','부상자수_계'])\n",
    "df3.head()"
   ]
  },
  {
   "cell_type": "code",
   "execution_count": 146,
   "id": "6fc14073",
   "metadata": {},
   "outputs": [
    {
     "data": {
      "text/html": [
       "<div>\n",
       "<style scoped>\n",
       "    .dataframe tbody tr th:only-of-type {\n",
       "        vertical-align: middle;\n",
       "    }\n",
       "\n",
       "    .dataframe tbody tr th {\n",
       "        vertical-align: top;\n",
       "    }\n",
       "\n",
       "    .dataframe thead th {\n",
       "        text-align: right;\n",
       "    }\n",
       "</style>\n",
       "<table border=\"1\" class=\"dataframe\">\n",
       "  <thead>\n",
       "    <tr style=\"text-align: right;\">\n",
       "      <th></th>\n",
       "      <th>발생건수_계</th>\n",
       "      <th>부상자수_계</th>\n",
       "    </tr>\n",
       "    <tr>\n",
       "      <th>자치구</th>\n",
       "      <th></th>\n",
       "      <th></th>\n",
       "    </tr>\n",
       "  </thead>\n",
       "  <tbody>\n",
       "    <tr>\n",
       "      <th>강남구</th>\n",
       "      <td>869</td>\n",
       "      <td>1145</td>\n",
       "    </tr>\n",
       "    <tr>\n",
       "      <th>강동구</th>\n",
       "      <td>810</td>\n",
       "      <td>1084</td>\n",
       "    </tr>\n",
       "    <tr>\n",
       "      <th>강북구</th>\n",
       "      <td>928</td>\n",
       "      <td>1256</td>\n",
       "    </tr>\n",
       "    <tr>\n",
       "      <th>강서구</th>\n",
       "      <td>3752</td>\n",
       "      <td>5189</td>\n",
       "    </tr>\n",
       "    <tr>\n",
       "      <th>관악구</th>\n",
       "      <td>1447</td>\n",
       "      <td>1952</td>\n",
       "    </tr>\n",
       "  </tbody>\n",
       "</table>\n",
       "</div>"
      ],
      "text/plain": [
       "     발생건수_계  부상자수_계\n",
       "자치구                \n",
       "강남구     869    1145\n",
       "강동구     810    1084\n",
       "강북구     928    1256\n",
       "강서구    3752    5189\n",
       "관악구    1447    1952"
      ]
     },
     "execution_count": 146,
     "metadata": {},
     "output_type": "execute_result"
    }
   ],
   "source": [
    "df4 = df3.groupby('자치구').sum()\n",
    "df4.head()"
   ]
  },
  {
   "cell_type": "code",
   "execution_count": 137,
   "id": "88cdceab",
   "metadata": {
    "scrolled": false
   },
   "outputs": [
    {
     "data": {
      "text/plain": [
       "<matplotlib.legend.Legend at 0x1ae22928190>"
      ]
     },
     "execution_count": 137,
     "metadata": {},
     "output_type": "execute_result"
    },
    {
     "data": {
      "image/png": "[encoded data removed]",
      "text/plain": [
       "<Figure size 1152x576 with 1 Axes>"
      ]
     },
     "metadata": {
      "needs_background": "light"
     },
     "output_type": "display_data"
    }
   ],
   "source": [
    "colors = ['lightgreen', 'pink']\n",
    "\n",
    "chart = df4.plot(kind='bar', title='자치구별 발생건수, 사망자 수 비교', figsize=(16,8),\n",
    "                legend=True, fontsize=12, color=colors)\n",
    "chart.set_xlabel('자치구', size=15)\n",
    "chart.set_ylabel('통계치', size=15)\n",
    "chart.legend(['발생건수_계', '부상자수_계'], fontsize=12)"
   ]
  },
  {
   "cell_type": "code",
   "execution_count": 138,
   "id": "2f1018fc",
   "metadata": {},
   "outputs": [
    {
     "data": {
      "text/plain": [
       "20"
      ]
     },
     "execution_count": 138,
     "metadata": {},
     "output_type": "execute_result"
    }
   ],
   "source": [
    "male1=df2['사망자수_여자'].sum()\n",
    "male1"
   ]
  },
  {
   "cell_type": "code",
   "execution_count": 139,
   "id": "ae274994",
   "metadata": {},
   "outputs": [
    {
     "data": {
      "text/plain": [
       "199"
      ]
     },
     "execution_count": 139,
     "metadata": {},
     "output_type": "execute_result"
    }
   ],
   "source": [
    "female1=df2['사망자수_남자'].sum()\n",
    "female1"
   ]
  },
  {
   "cell_type": "code",
   "execution_count": 140,
   "id": "9b3273c4",
   "metadata": {
    "scrolled": true
   },
   "outputs": [
    {
     "data": {
      "image/png": "[encoded data removed]",
      "text/plain": [
       "<Figure size 504x360 with 1 Axes>"
      ]
     },
     "metadata": {},
     "output_type": "display_data"
    }
   ],
   "source": [
    "fig=plt.figure(figsize=(7,5))\n",
    "data=[male1,female1]\n",
    "labels=['여자','남자']\n",
    "explode=[0,0.2]\n",
    "colors=['lightyellow','lightblue']\n",
    "plt.title('사망자 비율', size=15)\n",
    "plt.pie(data,autopct='%.1f%%', labels=labels, explode=explode, colors=colors, shadow=True, textprops={'size':15})\n",
    "plt.axis('equal')\n",
    "plt.show()"
   ]
  },
  {
   "cell_type": "code",
   "execution_count": 141,
   "id": "b7f05b3c",
   "metadata": {},
   "outputs": [
    {
     "data": {
      "text/plain": [
       "6219"
      ]
     },
     "execution_count": 141,
     "metadata": {},
     "output_type": "execute_result"
    }
   ],
   "source": [
    "male2=df2['발생건수_여자'].sum()\n",
    "male2"
   ]
  },
  {
   "cell_type": "code",
   "execution_count": 142,
   "id": "e311ed0b",
   "metadata": {},
   "outputs": [
    {
     "data": {
      "text/plain": [
       "28206"
      ]
     },
     "execution_count": 142,
     "metadata": {},
     "output_type": "execute_result"
    }
   ],
   "source": [
    "female2=df2['발생건수_남자'].sum()\n",
    "female2"
   ]
  },
  {
   "cell_type": "code",
   "execution_count": 143,
   "id": "94a37244",
   "metadata": {},
   "outputs": [
    {
     "data": {
      "image/png": "[encoded data removed]",
      "text/plain": [
       "<Figure size 504x360 with 1 Axes>"
      ]
     },
     "metadata": {},
     "output_type": "display_data"
    }
   ],
   "source": [
    "fig=plt.figure(figsize=(7,5))\n",
    "data=[male2,female2]\n",
    "labels=['여자','남자']\n",
    "explode=[0,0.2]\n",
    "colors=['lightyellow','lightblue']\n",
    "plt.title('가해자 비율', size=15)\n",
    "plt.pie(data,autopct='%.1f%%', labels=labels, explode=explode, colors=colors, shadow=True, textprops={'size':15})\n",
    "plt.axis('equal')\n",
    "plt.show()"
   ]
  },
  {
   "cell_type": "code",
   "execution_count": 144,
   "id": "04273a66",
   "metadata": {},
   "outputs": [
    {
     "data": {
      "image/png": "[encoded data removed]",
      "text/plain": [
       "<Figure size 720x360 with 1 Axes>"
      ]
     },
     "metadata": {
      "needs_background": "light"
     },
     "output_type": "display_data"
    }
   ],
   "source": [
    "\n",
    "df2.plot(kind='scatter', x='발생건수_계', y='사망자수_계', figsize=(10,5))\n",
    "\n",
    "plt.title('발생건수와 사망자수의 관계', size=20)\n",
    "plt.xlabel('발생건수', size=15)\n",
    "plt.ylabel('사망자수',size=15)\n",
    "\n",
    "plt.show()"
   ]
  },
  {
   "cell_type": "code",
   "execution_count": 145,
   "id": "b594501a",
   "metadata": {},
   "outputs": [
    {
     "data": {
      "text/plain": [
       "<AxesSubplot:title={'center':'발생건수 별 부상자 수'}, xlabel='발생건수_계', ylabel='부상자수_계'>"
      ]
     },
     "execution_count": 145,
     "metadata": {},
     "output_type": "execute_result"
    },
    {
     "data": {
      "image/png": "[encoded data removed]",
      "text/plain": [
       "<Figure size 1152x576 with 1 Axes>"
      ]
     },
     "metadata": {
      "needs_background": "light"
     },
     "output_type": "display_data"
    }
   ],
   "source": [
    "plt.figure(figsize=(16,8))\n",
    "plt.title(\"발생건수 별 부상자 수\")\n",
    "sns.barplot(x=\"발생건수_계\",y=\"부상자수_계\", data=df2)"
   ]
  },
  {
   "cell_type": "code",
   "execution_count": 124,
   "id": "7bb6b814",
   "metadata": {},
   "outputs": [
    {
     "data": {
      "text/plain": [
       "<AxesSubplot:title={'center':'발생건수 별 사망자 수'}, xlabel='발생건수_계', ylabel='사망자수_계'>"
      ]
     },
     "execution_count": 124,
     "metadata": {},
     "output_type": "execute_result"
    },
    {
     "data": {
      "image/png": "[encoded data removed]",
      "text/plain": [
       "<Figure size 1152x576 with 1 Axes>"
      ]
     },
     "metadata": {
      "needs_background": "light"
     },
     "output_type": "display_data"
    }
   ],
   "source": [
    "plt.figure(figsize=(16,8))\n",
    "plt.title(\"발생건수 별 사망자 수\")\n",
    "sns.regplot(x=df2['발생건수_계'].astype(float), y=df2['사망자수_계'].astype(float))"
   ]
  },
  {
   "cell_type": "code",
   "execution_count": null,
   "id": "8ae82565",
   "metadata": {},
   "outputs": [],
   "source": []
  }
 ],
 "metadata": {
  "kernelspec": {
   "display_name": "Python 3 (ipykernel)",
   "language": "python",
   "name": "python3"
  },
  "language_info": {
   "codemirror_mode": {
    "name": "ipython",
    "version": 3
   },
   "file_extension": ".py",
   "mimetype": "text/x-python",
   "name": "python",
   "nbconvert_exporter": "python",
   "pygments_lexer": "ipython3",
   "version": "3.9.7"
  }
 },
 "nbformat": 4,
 "nbformat_minor": 5
}
